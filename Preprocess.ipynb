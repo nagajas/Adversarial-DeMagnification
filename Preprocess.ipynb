{
 "cells": [
  {
   "cell_type": "code",
   "execution_count": 17,
   "metadata": {},
   "outputs": [],
   "source": [
    "import json"
   ]
  },
  {
   "cell_type": "code",
   "execution_count": 47,
   "metadata": {},
   "outputs": [],
   "source": [
    "with open('Train_poly.json','r') as f:\n",
    "    data = json.load(f)"
   ]
  },
  {
   "cell_type": "code",
   "execution_count": 3,
   "metadata": {},
   "outputs": [
    {
     "data": {
      "text/plain": [
       "dict_keys(['categories', 'images', 'annotations'])"
      ]
     },
     "execution_count": 3,
     "metadata": {},
     "output_type": "execute_result"
    }
   ],
   "source": [
    "data.keys()"
   ]
  },
  {
   "cell_type": "code",
   "execution_count": 4,
   "metadata": {},
   "outputs": [
    {
     "data": {
      "text/plain": [
       "{'id': 0,\n",
       " 'file_name': 'Images/Train/9c541c578f.jpg',\n",
       " 'width': 1024,\n",
       " 'height': 847}"
      ]
     },
     "execution_count": 4,
     "metadata": {},
     "output_type": "execute_result"
    }
   ],
   "source": [
    "data['images'][0]"
   ]
  },
  {
   "cell_type": "code",
   "execution_count": 5,
   "metadata": {},
   "outputs": [
    {
     "data": {
      "text/plain": [
       "{'id': 0,\n",
       " 'image_id': 0,\n",
       " 'iscrowd': 0,\n",
       " 'area': 13661,\n",
       " 'category_id': 1,\n",
       " 'bbox': [458, 237, 134, 131],\n",
       " 'segmentation': [[496,\n",
       "   237,\n",
       "   488,\n",
       "   238,\n",
       "   483,\n",
       "   241,\n",
       "   481,\n",
       "   241,\n",
       "   475,\n",
       "   244,\n",
       "   473,\n",
       "   246,\n",
       "   470,\n",
       "   247,\n",
       "   467,\n",
       "   249,\n",
       "   465,\n",
       "   251,\n",
       "   462,\n",
       "   252,\n",
       "   459,\n",
       "   254,\n",
       "   458,\n",
       "   257,\n",
       "   459,\n",
       "   271,\n",
       "   460,\n",
       "   277,\n",
       "   461,\n",
       "   282,\n",
       "   462,\n",
       "   288,\n",
       "   463,\n",
       "   293,\n",
       "   464,\n",
       "   298,\n",
       "   465,\n",
       "   303,\n",
       "   466,\n",
       "   308,\n",
       "   467,\n",
       "   312,\n",
       "   471,\n",
       "   319,\n",
       "   471,\n",
       "   321,\n",
       "   476,\n",
       "   331,\n",
       "   482,\n",
       "   338,\n",
       "   492,\n",
       "   348,\n",
       "   499,\n",
       "   354,\n",
       "   503,\n",
       "   357,\n",
       "   519,\n",
       "   365,\n",
       "   522,\n",
       "   366,\n",
       "   528,\n",
       "   367,\n",
       "   534,\n",
       "   367,\n",
       "   539,\n",
       "   366,\n",
       "   542,\n",
       "   365,\n",
       "   545,\n",
       "   363,\n",
       "   549,\n",
       "   360,\n",
       "   553,\n",
       "   357,\n",
       "   561,\n",
       "   349,\n",
       "   567,\n",
       "   342,\n",
       "   568,\n",
       "   339,\n",
       "   570,\n",
       "   337,\n",
       "   571,\n",
       "   334,\n",
       "   573,\n",
       "   332,\n",
       "   577,\n",
       "   324,\n",
       "   577,\n",
       "   322,\n",
       "   579,\n",
       "   319,\n",
       "   580,\n",
       "   316,\n",
       "   580,\n",
       "   314,\n",
       "   582,\n",
       "   311,\n",
       "   583,\n",
       "   308,\n",
       "   584,\n",
       "   304,\n",
       "   585,\n",
       "   301,\n",
       "   586,\n",
       "   297,\n",
       "   587,\n",
       "   293,\n",
       "   588,\n",
       "   288,\n",
       "   589,\n",
       "   282,\n",
       "   590,\n",
       "   276,\n",
       "   590,\n",
       "   264,\n",
       "   590,\n",
       "   261,\n",
       "   590,\n",
       "   257,\n",
       "   589,\n",
       "   253,\n",
       "   588,\n",
       "   249,\n",
       "   587,\n",
       "   245,\n",
       "   586,\n",
       "   243,\n",
       "   581,\n",
       "   238,\n",
       "   576,\n",
       "   237]]}"
      ]
     },
     "execution_count": 5,
     "metadata": {},
     "output_type": "execute_result"
    }
   ],
   "source": [
    "data['annotations'][0]"
   ]
  },
  {
   "cell_type": "code",
   "execution_count": 39,
   "metadata": {},
   "outputs": [],
   "source": [
    "train_data = {'categories':[{'id': 0, 'name': 'Real'}, {'id': 1, 'name': 'Fake'}],\n",
    "              'images':[],\n",
    "              'annotations':[]}\n",
    "val_data = {'categories':[{'id': 0, 'name': 'Real'}, {'id': 1, 'name': 'Fake'}],\n",
    "              'images':[],\n",
    "              'annotations':[]}"
   ]
  },
  {
   "cell_type": "code",
   "execution_count": 1,
   "metadata": {},
   "outputs": [],
   "source": [
    "import os\n",
    "from tqdm import tqdm"
   ]
  },
  {
   "cell_type": "code",
   "execution_count": 48,
   "metadata": {},
   "outputs": [
    {
     "name": "stderr",
     "output_type": "stream",
     "text": [
      "100%|██████████| 7000/7000 [00:00<00:00, 635830.91it/s]\n"
     ]
    }
   ],
   "source": [
    "image_lookup = {inf['file_name'].split('/')[-1]: inf for inf in data['images']}\n",
    "train_data['images'] = [image_lookup[img] for img in tqdm(os.listdir('./Train')) if img in image_lookup]\n",
    "train_image_ids = {img['id'] for img in train_data['images']}\n",
    "train_data['annotations'] = [x for x in data['annotations'] if x['image_id'] in train_image_ids]"
   ]
  },
  {
   "cell_type": "code",
   "execution_count": 49,
   "metadata": {},
   "outputs": [
    {
     "name": "stderr",
     "output_type": "stream",
     "text": [
      "100%|██████████| 2999/2999 [00:00<00:00, 372250.53it/s]"
     ]
    },
    {
     "name": "stderr",
     "output_type": "stream",
     "text": [
      "\n"
     ]
    }
   ],
   "source": [
    "for img in tqdm(os.listdir('./Val')):\n",
    "    if img in image_lookup:\n",
    "        x = image_lookup[img]\n",
    "        x['file_name'] = 'Images/Val/'+x['file_name'].split('/')[-1]\n",
    "        val_data['images'].append(x)\n",
    "     \n",
    "val_image_ids = {img['id'] for img in val_data['images']}\n",
    "val_data['annotations'] = [x for x in data['annotations'] if x['image_id'] in val_image_ids]"
   ]
  },
  {
   "cell_type": "code",
   "execution_count": 50,
   "metadata": {},
   "outputs": [],
   "source": [
    "with open(\"train_data.json\", \"w\") as file:\n",
    "    json.dump(train_data, file, indent=4)\n",
    "\n"
   ]
  },
  {
   "cell_type": "code",
   "execution_count": 51,
   "metadata": {},
   "outputs": [],
   "source": [
    "with open('val_data.json', 'w') as f:\n",
    "    json.dump(val_data, f, indent=4)"
   ]
  },
  {
   "cell_type": "code",
   "execution_count": 23,
   "metadata": {},
   "outputs": [
    {
     "data": {
      "text/plain": [
       "dict_keys(['categories', 'images', 'annotations'])"
      ]
     },
     "execution_count": 23,
     "metadata": {},
     "output_type": "execute_result"
    }
   ],
   "source": [
    "cwd = '/home/nagajas/Desktop/AML/project/Adversarial-Magnification-to-Deceive-Deepfake-Detection-through-Super-Resolution/Images'\n",
    "with open(cwd+'/Test-Dev_poly.json', 'r') as f:\n",
    "    data = json.load(f)\n",
    "data.keys()"
   ]
  },
  {
   "cell_type": "code",
   "execution_count": 24,
   "metadata": {},
   "outputs": [
    {
     "data": {
      "text/plain": [
       "{'id': 0,\n",
       " 'file_name': 'Images/Test-Dev/e8ef73c50c.jpg',\n",
       " 'width': 1024,\n",
       " 'height': 683}"
      ]
     },
     "execution_count": 24,
     "metadata": {},
     "output_type": "execute_result"
    }
   ],
   "source": [
    "data['images'][0]"
   ]
  },
  {
   "cell_type": "code",
   "execution_count": 25,
   "metadata": {},
   "outputs": [
    {
     "data": {
      "text/plain": [
       "{'id': 0,\n",
       " 'image_id': 0,\n",
       " 'iscrowd': 0,\n",
       " 'area': 11744,\n",
       " 'category_id': 1,\n",
       " 'bbox': [209, 280, 124, 122],\n",
       " 'segmentation': [[232,\n",
       "   280,\n",
       "   227,\n",
       "   281,\n",
       "   225,\n",
       "   282,\n",
       "   223,\n",
       "   284,\n",
       "   220,\n",
       "   285,\n",
       "   217,\n",
       "   288,\n",
       "   213,\n",
       "   293,\n",
       "   209,\n",
       "   298,\n",
       "   209,\n",
       "   333,\n",
       "   210,\n",
       "   341,\n",
       "   211,\n",
       "   347,\n",
       "   212,\n",
       "   350,\n",
       "   214,\n",
       "   353,\n",
       "   214,\n",
       "   355,\n",
       "   215,\n",
       "   358,\n",
       "   216,\n",
       "   360,\n",
       "   218,\n",
       "   363,\n",
       "   221,\n",
       "   367,\n",
       "   224,\n",
       "   371,\n",
       "   243,\n",
       "   390,\n",
       "   250,\n",
       "   396,\n",
       "   254,\n",
       "   398,\n",
       "   256,\n",
       "   398,\n",
       "   259,\n",
       "   400,\n",
       "   262,\n",
       "   401,\n",
       "   267,\n",
       "   401,\n",
       "   271,\n",
       "   400,\n",
       "   285,\n",
       "   393,\n",
       "   287,\n",
       "   391,\n",
       "   290,\n",
       "   390,\n",
       "   293,\n",
       "   388,\n",
       "   295,\n",
       "   386,\n",
       "   298,\n",
       "   385,\n",
       "   301,\n",
       "   383,\n",
       "   316,\n",
       "   368,\n",
       "   318,\n",
       "   363,\n",
       "   320,\n",
       "   361,\n",
       "   324,\n",
       "   353,\n",
       "   325,\n",
       "   350,\n",
       "   326,\n",
       "   345,\n",
       "   327,\n",
       "   341,\n",
       "   328,\n",
       "   336,\n",
       "   329,\n",
       "   330,\n",
       "   330,\n",
       "   324,\n",
       "   331,\n",
       "   318,\n",
       "   332,\n",
       "   305,\n",
       "   325,\n",
       "   298,\n",
       "   315,\n",
       "   289,\n",
       "   311,\n",
       "   286,\n",
       "   309,\n",
       "   285,\n",
       "   306,\n",
       "   284,\n",
       "   301,\n",
       "   283,\n",
       "   287,\n",
       "   282,\n",
       "   263,\n",
       "   281,\n",
       "   239,\n",
       "   280]]}"
      ]
     },
     "execution_count": 25,
     "metadata": {},
     "output_type": "execute_result"
    }
   ],
   "source": [
    "data['annotations'][0]"
   ]
  },
  {
   "cell_type": "code",
   "execution_count": 26,
   "metadata": {},
   "outputs": [],
   "source": [
    "test_data = {'categories':[{'id': 0, 'name': 'Real'}, {'id': 1, 'name': 'Fake'}],\n",
    "              'images':[],\n",
    "              'annotations':[]}"
   ]
  },
  {
   "cell_type": "code",
   "execution_count": 28,
   "metadata": {},
   "outputs": [
    {
     "name": "stderr",
     "output_type": "stream",
     "text": [
      "100%|██████████████████████████████████████████████████████████████████████████████████████████| 8896/8896 [00:00<00:00, 5062758.26it/s]\n"
     ]
    }
   ],
   "source": [
    "image_lookup = {inf['file_name'].split('/')[-1]: inf for inf in data['images']}\n",
    "test_data['images'] = [image_lookup[img] for img in tqdm(os.listdir(cwd+'/Test-Dev')) if img in image_lookup]\n",
    "test_image_ids = {img['id'] for img in test_data['images']}\n",
    "test_data['annotations'] = [x for x in data['annotations'] if x['image_id'] in test_image_ids]"
   ]
  },
  {
   "cell_type": "code",
   "execution_count": 29,
   "metadata": {},
   "outputs": [
    {
     "name": "stdout",
     "output_type": "stream",
     "text": [
      "8896 23320\n"
     ]
    }
   ],
   "source": [
    "print(len(test_data['images']), len(test_data['annotations']))"
   ]
  },
  {
   "cell_type": "code",
   "execution_count": 30,
   "metadata": {},
   "outputs": [],
   "source": [
    "with open(cwd+\"/test_data.json\", \"w\") as file:\n",
    "    json.dump(test_data, file, indent=4)"
   ]
  },
  {
   "cell_type": "code",
   "execution_count": null,
   "metadata": {},
   "outputs": [],
   "source": []
  }
 ],
 "metadata": {
  "kernelspec": {
   "display_name": "Python 3 (ipykernel)",
   "language": "python",
   "name": "python3"
  },
  "language_info": {
   "codemirror_mode": {
    "name": "ipython",
    "version": 3
   },
   "file_extension": ".py",
   "mimetype": "text/x-python",
   "name": "python",
   "nbconvert_exporter": "python",
   "pygments_lexer": "ipython3",
   "version": "3.12.7"
  }
 },
 "nbformat": 4,
 "nbformat_minor": 2
}
